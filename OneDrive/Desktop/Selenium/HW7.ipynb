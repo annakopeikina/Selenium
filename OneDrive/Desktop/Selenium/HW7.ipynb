{
 "cells": [
  {
   "cell_type": "code",
   "execution_count": 25,
   "metadata": {},
   "outputs": [],
   "source": [
    "import selenium\n",
    "import csv\n",
    "import time\n",
    "import selenium.webdriver"
   ]
  },
  {
   "cell_type": "code",
   "execution_count": 4,
   "metadata": {},
   "outputs": [],
   "source": [
    "from selenium import webdriver\n",
    "from selenium.webdriver.common.by import By\n",
    "from selenium.webdriver.support.ui import WebDriverWait\n",
    "from selenium.webdriver.support import expected_conditions as EC\n",
    "from bs4 import BeautifulSoup\n",
    "from selenium.webdriver.support.ui import Select"
   ]
  },
  {
   "cell_type": "code",
   "execution_count": 24,
   "metadata": {},
   "outputs": [
    {
     "name": "stdout",
     "output_type": "stream",
     "text": [
      "Article Title: Сравнительный анализ показателей жесткости и стрейна левого желудочка у пациентов с ишемической болезнью сердца в зависимости от наличия сопутствующей фибрилляции предсердий\n",
      "Authors: Кочетков А.И.\n",
      "Article Title: Антагонисты минералокортикоидных рецепторов у пациентов с хронической сердечной недостаточностью: мифы и реальность\n",
      "Authors: Кочетков А.И.\n",
      "Article Title: Фиксированная комбинация гликопиррония бромид / индакатерол / мометазон у пациентов с тяжелой неконтролируемой бронхиальной астмой\n",
      "Authors: Кочетков А.И.\n",
      "Article Title: Проблема врожденной атрезии хоан в педиатрической практике\n",
      "Authors: Кочетков А.И.\n",
      "Article Title: Влияние урсодезоксихолевой кислоты на симптомы и качество жизни пациентов с билиарным сладжем (исследование АУРА)\n",
      "Authors: Кочетков А.И.\n",
      "Article Title: Клиническое значение определения маркеров цитомегаловируса при циррозе печени\n",
      "Authors: Кочетков А.И.\n",
      "Article Title: Показатели иммунного статуса пациентов с рецидивирующей герпетической инфекцией\n",
      "Authors: Кочетков А.И.\n",
      "Article Title: Микст-инфекция: корь и эпидемический паротит (клиническое наблюдение)\n",
      "Authors: Кочетков А.И.\n",
      "Article Title: Концентрации остеокластогенных цитокинов у женщин постменопаузальноговозраста, инфицированных Helicobacter pylori\n",
      "Authors: Кочетков А.И.\n",
      "Article Title: Провоспалительные цитокины при ревматоидном артрите: связь с активностью и субтипами заболевания\n",
      "Authors: Кочетков А.И.\n",
      "Article Title: Макрофаг как мишень противовоспалительной терапии\n",
      "Authors: Кочетков А.И.\n",
      "Article Title: Нормативно-правовое регулирование оказания медицинской помощи детям на примере заболеваний: прогрессирующая мышечная дистрофия Дюшенна и прогрессирующая мышечная дистрофия Беккера\n",
      "Authors: Кочетков А.И.\n",
      "Data successfully saved to rmj_articles.csv\n"
     ]
    }
   ],
   "source": [
    "# Initialize WebDriver\n",
    "driver = webdriver.Chrome()\n",
    "\n",
    "# XPath для заголовков статей и авторов\n",
    "article_title_xpath = \"//a[contains(@class, 'h5')]\"\n",
    "authors_xpath = \"//div[@class='authors']//span[@class='text-primary-extra-light']\"\n",
    "\n",
    "# Список для хранения извлеченных данных\n",
    "extracted_data = []\n",
    "\n",
    "try:\n",
    "    # Открыть вебсайт\n",
    "    driver.get('https://www.rmj.ru/current_release/')\n",
    "\n",
    "    # Обработать всплывающее окно авторизации/регистрации (если появится)\n",
    "    try:\n",
    "        WebDriverWait(driver, 3).until(\n",
    "            EC.element_to_be_clickable((By.ID, 'popup-agree-button'))\n",
    "        ).click()\n",
    "    except:\n",
    "        pass\n",
    "\n",
    "    # Извлечь все элементы заголовков статей\n",
    "    articles = driver.find_elements(By.XPATH, article_title_xpath)\n",
    "\n",
    "    for article in articles:\n",
    "        # Извлечь название статьи\n",
    "        title = article.text\n",
    "        print(f\"Article Title: {title}\")\n",
    "\n",
    "        # Извлечь авторов, относящихся к статье\n",
    "        authors = article.find_element(By.XPATH, authors_xpath)\n",
    "        author_names = authors.text\n",
    "        print(f\"Authors: {author_names}\")\n",
    "\n",
    "        # Сохранить данные в список\n",
    "        extracted_data.append({\n",
    "            \"Title\": title,\n",
    "            \"Authors\": author_names\n",
    "        })\n",
    "\n",
    "except Exception as e:\n",
    "    print(f\"Error while working with WebDriver: {str(e)}\")\n",
    "finally:\n",
    "    # Завершить работу WebDriver\n",
    "    driver.quit()\n",
    "\n",
    "# Записать данные в CSV-файл\n",
    "with open('rmj_articles.csv', 'w', newline='', encoding='utf-8') as csvfile:\n",
    "    fieldnames = [\"Title\", \"Authors\"]\n",
    "    writer = csv.DictWriter(csvfile, fieldnames=fieldnames)\n",
    "    writer.writeheader()\n",
    "    for data in extracted_data:\n",
    "        writer.writerow(data)\n",
    "\n",
    "print(\"Data successfully saved to rmj_articles.csv\")\n"
   ]
  },
  {
   "cell_type": "markdown",
   "metadata": {},
   "source": [
    "Задание:\n",
    "Выберите веб-сайт, который содержит информацию, представляющую интерес для извлечения данных. Это может быть новостной сайт, платформа для электронной коммерции или любой другой сайт, который позволяет осуществлять скрейпинг (убедитесь в соблюдении условий обслуживания сайта).\n",
    "Используя Selenium, напишите сценарий для автоматизации процесса перехода на нужную страницу сайта.\n",
    "Определите элементы HTML, содержащие информацию, которую вы хотите извлечь (например, заголовки статей, названия продуктов, цены и т.д.).\n",
    "Используйте BeautifulSoup для парсинга содержимого HTML и извлечения нужной информации из идентифицированных элементов.\n",
    "Обработайте любые ошибки или исключения, которые могут возникнуть в процессе скрейпинга.\n",
    "Протестируйте свой скрипт на различных сценариях, чтобы убедиться, что он точно извлекает нужные данные.\n",
    "Предоставьте ваш Python-скрипт вместе с кратким отчетом (не более 1 страницы), который включает следующее: URL сайта. Укажите URL сайта, который вы выбрали для анализа. Описание. Предоставьте краткое описание информации, которую вы хотели извлечь из сайта. Подход. Объясните подход, который вы использовали для навигации по сайту, определения соответствующих элементов и извлечения нужных данных. Трудности. Опишите все проблемы и препятствия, с которыми вы столкнулись в ходе реализации проекта, и как вы их преодолели. Результаты. Включите образец извлеченных данных в выбранном вами структурированном формате (например, CSV или JSON). Примечание: Обязательно соблюдайте условия обслуживания сайта и избегайте чрезмерного скрейпинга, который может нарушить нормальную работу сайта.\n",
    "\n",
    "Решение:\n",
    "Мною был выбран медицинский сайт rmj.ru. Идея скрипта следующая: выбрать неизменяющийся элемент раздела: \"Tекущий номер\" и динамические элементы названий статей и авторов в этом номере (это ежемесячный журнал с актуальной информацией). В процессе разработки кода возникли следующие трудности: всплывающее окно с согласием (информация только для медицинской аудитории), всплывающее окно с регистрацией, пустой csv, вывод названия только первой статьи и авторов и несколико других сложностей (решение и комментарии в коде)."
   ]
  }
 ],
 "metadata": {
  "kernelspec": {
   "display_name": "Python 3",
   "language": "python",
   "name": "python3"
  },
  "language_info": {
   "codemirror_mode": {
    "name": "ipython",
    "version": 3
   },
   "file_extension": ".py",
   "mimetype": "text/x-python",
   "name": "python",
   "nbconvert_exporter": "python",
   "pygments_lexer": "ipython3",
   "version": "3.10.11"
  }
 },
 "nbformat": 4,
 "nbformat_minor": 2
}
